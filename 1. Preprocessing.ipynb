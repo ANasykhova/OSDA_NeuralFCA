{
 "cells": [
  {
   "cell_type": "markdown",
   "metadata": {},
   "source": [
    "This file contains the code for the following steps:\n",
    "- download dataset from kaggle;\n",
    "- removing unnecessary columns and rows with missing values\n",
    "- balancing the values of the target variable;\n",
    "- binarization of features (4 strategies)."
   ]
  },
  {
   "cell_type": "code",
   "execution_count": 1,
   "metadata": {},
   "outputs": [],
   "source": [
    "# To comply with the code style\n",
    "%load_ext jupyter_black"
   ]
  },
  {
   "cell_type": "markdown",
   "metadata": {
    "id": "3v12S4V2u8J0"
   },
   "source": [
    "### Libraries"
   ]
  },
  {
   "cell_type": "code",
   "execution_count": 2,
   "metadata": {
    "id": "dUEvmHBsu8J0"
   },
   "outputs": [],
   "source": [
    "import time\n",
    "import numpy as np\n",
    "import pandas as pd\n",
    "\n",
    "# Dataset downloader\n",
    "import opendatasets as od\n",
    "\n",
    "# Preprocessing\n",
    "from sklearn.utils import resample\n",
    "from sklearn.model_selection import train_test_split\n",
    "\n",
    "# Feature selection\n",
    "from sklearn.feature_selection import SelectKBest\n",
    "from sklearn.feature_selection import chi2\n",
    "\n",
    "# Visualization\n",
    "import matplotlib.pyplot as plt\n",
    "import seaborn as sb\n",
    "\n",
    "plt.rcParams[\"figure.facecolor\"] = (1, 1, 1, 1)"
   ]
  },
  {
   "cell_type": "code",
   "execution_count": 3,
   "metadata": {},
   "outputs": [],
   "source": [
    "SEED = 42"
   ]
  },
  {
   "cell_type": "markdown",
   "metadata": {
    "id": "Joqy7QCNu8J5"
   },
   "source": [
    "# Preprocessing"
   ]
  },
  {
   "cell_type": "markdown",
   "metadata": {},
   "source": [
    "### Dataset import"
   ]
  },
  {
   "cell_type": "code",
   "execution_count": 4,
   "metadata": {
    "colab": {
     "base_uri": "https://localhost:8080/",
     "height": 237
    },
    "id": "sB1UqaW_u8J3",
    "outputId": "f775bfe2-ca7c-401c-de81-afc25a86ed08"
   },
   "outputs": [
    {
     "name": "stdout",
     "output_type": "stream",
     "text": [
      "Skipping, found downloaded files in \".\\stroke-prediction-dataset\" (use force=True to force download)\n"
     ]
    }
   ],
   "source": [
    "od.download(\"https://www.kaggle.com/datasets/fedesoriano/stroke-prediction-dataset\")"
   ]
  },
  {
   "cell_type": "code",
   "execution_count": 5,
   "metadata": {},
   "outputs": [
    {
     "name": "stdout",
     "output_type": "stream",
     "text": [
      "(5110, 12)\n"
     ]
    },
    {
     "data": {
      "text/html": [
       "<div>\n",
       "<style scoped>\n",
       "    .dataframe tbody tr th:only-of-type {\n",
       "        vertical-align: middle;\n",
       "    }\n",
       "\n",
       "    .dataframe tbody tr th {\n",
       "        vertical-align: top;\n",
       "    }\n",
       "\n",
       "    .dataframe thead th {\n",
       "        text-align: right;\n",
       "    }\n",
       "</style>\n",
       "<table border=\"1\" class=\"dataframe\">\n",
       "  <thead>\n",
       "    <tr style=\"text-align: right;\">\n",
       "      <th></th>\n",
       "      <th>id</th>\n",
       "      <th>gender</th>\n",
       "      <th>age</th>\n",
       "      <th>hypertension</th>\n",
       "      <th>heart_disease</th>\n",
       "      <th>ever_married</th>\n",
       "      <th>work_type</th>\n",
       "      <th>Residence_type</th>\n",
       "      <th>avg_glucose_level</th>\n",
       "      <th>bmi</th>\n",
       "      <th>smoking_status</th>\n",
       "      <th>stroke</th>\n",
       "    </tr>\n",
       "  </thead>\n",
       "  <tbody>\n",
       "    <tr>\n",
       "      <th>0</th>\n",
       "      <td>9046</td>\n",
       "      <td>Male</td>\n",
       "      <td>67.0</td>\n",
       "      <td>0</td>\n",
       "      <td>1</td>\n",
       "      <td>Yes</td>\n",
       "      <td>Private</td>\n",
       "      <td>Urban</td>\n",
       "      <td>228.69</td>\n",
       "      <td>36.6</td>\n",
       "      <td>formerly smoked</td>\n",
       "      <td>1</td>\n",
       "    </tr>\n",
       "    <tr>\n",
       "      <th>1</th>\n",
       "      <td>51676</td>\n",
       "      <td>Female</td>\n",
       "      <td>61.0</td>\n",
       "      <td>0</td>\n",
       "      <td>0</td>\n",
       "      <td>Yes</td>\n",
       "      <td>Self-employed</td>\n",
       "      <td>Rural</td>\n",
       "      <td>202.21</td>\n",
       "      <td>NaN</td>\n",
       "      <td>never smoked</td>\n",
       "      <td>1</td>\n",
       "    </tr>\n",
       "    <tr>\n",
       "      <th>2</th>\n",
       "      <td>31112</td>\n",
       "      <td>Male</td>\n",
       "      <td>80.0</td>\n",
       "      <td>0</td>\n",
       "      <td>1</td>\n",
       "      <td>Yes</td>\n",
       "      <td>Private</td>\n",
       "      <td>Rural</td>\n",
       "      <td>105.92</td>\n",
       "      <td>32.5</td>\n",
       "      <td>never smoked</td>\n",
       "      <td>1</td>\n",
       "    </tr>\n",
       "    <tr>\n",
       "      <th>3</th>\n",
       "      <td>60182</td>\n",
       "      <td>Female</td>\n",
       "      <td>49.0</td>\n",
       "      <td>0</td>\n",
       "      <td>0</td>\n",
       "      <td>Yes</td>\n",
       "      <td>Private</td>\n",
       "      <td>Urban</td>\n",
       "      <td>171.23</td>\n",
       "      <td>34.4</td>\n",
       "      <td>smokes</td>\n",
       "      <td>1</td>\n",
       "    </tr>\n",
       "    <tr>\n",
       "      <th>4</th>\n",
       "      <td>1665</td>\n",
       "      <td>Female</td>\n",
       "      <td>79.0</td>\n",
       "      <td>1</td>\n",
       "      <td>0</td>\n",
       "      <td>Yes</td>\n",
       "      <td>Self-employed</td>\n",
       "      <td>Rural</td>\n",
       "      <td>174.12</td>\n",
       "      <td>24.0</td>\n",
       "      <td>never smoked</td>\n",
       "      <td>1</td>\n",
       "    </tr>\n",
       "  </tbody>\n",
       "</table>\n",
       "</div>"
      ],
      "text/plain": [
       "      id  gender   age  hypertension  heart_disease ever_married  \\\n",
       "0   9046    Male  67.0             0              1          Yes   \n",
       "1  51676  Female  61.0             0              0          Yes   \n",
       "2  31112    Male  80.0             0              1          Yes   \n",
       "3  60182  Female  49.0             0              0          Yes   \n",
       "4   1665  Female  79.0             1              0          Yes   \n",
       "\n",
       "       work_type Residence_type  avg_glucose_level   bmi   smoking_status  \\\n",
       "0        Private          Urban             228.69  36.6  formerly smoked   \n",
       "1  Self-employed          Rural             202.21   NaN     never smoked   \n",
       "2        Private          Rural             105.92  32.5     never smoked   \n",
       "3        Private          Urban             171.23  34.4           smokes   \n",
       "4  Self-employed          Rural             174.12  24.0     never smoked   \n",
       "\n",
       "   stroke  \n",
       "0       1  \n",
       "1       1  \n",
       "2       1  \n",
       "3       1  \n",
       "4       1  "
      ]
     },
     "execution_count": 5,
     "metadata": {},
     "output_type": "execute_result"
    }
   ],
   "source": [
    "df = pd.read_csv(\"stroke-prediction-dataset/healthcare-dataset-stroke-data.csv\")\n",
    "print(df.shape)\n",
    "df.head()"
   ]
  },
  {
   "cell_type": "code",
   "execution_count": 6,
   "metadata": {
    "id": "QHv87ygJu8J5"
   },
   "outputs": [],
   "source": [
    "df.dropna(inplace=True)"
   ]
  },
  {
   "cell_type": "code",
   "execution_count": 7,
   "metadata": {},
   "outputs": [],
   "source": [
    "df.drop(columns=[\"id\"], inplace=True)"
   ]
  },
  {
   "cell_type": "markdown",
   "metadata": {},
   "source": [
    "### Balancing classes"
   ]
  },
  {
   "cell_type": "code",
   "execution_count": 8,
   "metadata": {},
   "outputs": [
    {
     "data": {
      "text/plain": [
       "stroke\n",
       "0    4700\n",
       "1     209\n",
       "Name: count, dtype: int64"
      ]
     },
     "execution_count": 8,
     "metadata": {},
     "output_type": "execute_result"
    }
   ],
   "source": [
    "df[\"stroke\"].value_counts()"
   ]
  },
  {
   "cell_type": "markdown",
   "metadata": {},
   "source": [
    "There is a **huge** imbalance. If left like this, the model will always produce a constant prediction. Let's try to change the ratio to at least 1 to 2"
   ]
  },
  {
   "cell_type": "code",
   "execution_count": 9,
   "metadata": {},
   "outputs": [
    {
     "name": "stdout",
     "output_type": "stream",
     "text": [
      "stroke\n",
      "0    500\n",
      "1    209\n",
      "Name: count, dtype: int64\n"
     ]
    }
   ],
   "source": [
    "class_a = df[df[\"stroke\"] == 1]\n",
    "class_b = df[df[\"stroke\"] == 0]\n",
    "\n",
    "class_b_downsampled = resample(class_b, replace=False, n_samples=500, random_state=SEED)\n",
    "\n",
    "df_balanced = pd.concat([class_a, class_b_downsampled])\n",
    "\n",
    "# Let's check the class distribution\n",
    "print(df_balanced[\"stroke\"].value_counts())"
   ]
  },
  {
   "cell_type": "code",
   "execution_count": 10,
   "metadata": {},
   "outputs": [
    {
     "data": {
      "text/html": [
       "<div>\n",
       "<style scoped>\n",
       "    .dataframe tbody tr th:only-of-type {\n",
       "        vertical-align: middle;\n",
       "    }\n",
       "\n",
       "    .dataframe tbody tr th {\n",
       "        vertical-align: top;\n",
       "    }\n",
       "\n",
       "    .dataframe thead th {\n",
       "        text-align: right;\n",
       "    }\n",
       "</style>\n",
       "<table border=\"1\" class=\"dataframe\">\n",
       "  <thead>\n",
       "    <tr style=\"text-align: right;\">\n",
       "      <th></th>\n",
       "      <th>age</th>\n",
       "      <th>hypertension</th>\n",
       "      <th>heart_disease</th>\n",
       "      <th>avg_glucose_level</th>\n",
       "      <th>bmi</th>\n",
       "      <th>stroke</th>\n",
       "    </tr>\n",
       "  </thead>\n",
       "  <tbody>\n",
       "    <tr>\n",
       "      <th>count</th>\n",
       "      <td>709.000000</td>\n",
       "      <td>709.000000</td>\n",
       "      <td>709.000000</td>\n",
       "      <td>709.000000</td>\n",
       "      <td>709.000000</td>\n",
       "      <td>709.000000</td>\n",
       "    </tr>\n",
       "    <tr>\n",
       "      <th>mean</th>\n",
       "      <td>47.928406</td>\n",
       "      <td>0.132581</td>\n",
       "      <td>0.090268</td>\n",
       "      <td>113.162454</td>\n",
       "      <td>29.102680</td>\n",
       "      <td>0.294781</td>\n",
       "    </tr>\n",
       "    <tr>\n",
       "      <th>std</th>\n",
       "      <td>23.678472</td>\n",
       "      <td>0.339361</td>\n",
       "      <td>0.286768</td>\n",
       "      <td>52.493273</td>\n",
       "      <td>7.808042</td>\n",
       "      <td>0.456266</td>\n",
       "    </tr>\n",
       "    <tr>\n",
       "      <th>min</th>\n",
       "      <td>0.240000</td>\n",
       "      <td>0.000000</td>\n",
       "      <td>0.000000</td>\n",
       "      <td>55.120000</td>\n",
       "      <td>12.300000</td>\n",
       "      <td>0.000000</td>\n",
       "    </tr>\n",
       "    <tr>\n",
       "      <th>25%</th>\n",
       "      <td>30.000000</td>\n",
       "      <td>0.000000</td>\n",
       "      <td>0.000000</td>\n",
       "      <td>77.520000</td>\n",
       "      <td>23.900000</td>\n",
       "      <td>0.000000</td>\n",
       "    </tr>\n",
       "    <tr>\n",
       "      <th>50%</th>\n",
       "      <td>51.000000</td>\n",
       "      <td>0.000000</td>\n",
       "      <td>0.000000</td>\n",
       "      <td>93.020000</td>\n",
       "      <td>28.100000</td>\n",
       "      <td>0.000000</td>\n",
       "    </tr>\n",
       "    <tr>\n",
       "      <th>75%</th>\n",
       "      <td>69.000000</td>\n",
       "      <td>0.000000</td>\n",
       "      <td>0.000000</td>\n",
       "      <td>125.200000</td>\n",
       "      <td>32.900000</td>\n",
       "      <td>1.000000</td>\n",
       "    </tr>\n",
       "    <tr>\n",
       "      <th>max</th>\n",
       "      <td>82.000000</td>\n",
       "      <td>1.000000</td>\n",
       "      <td>1.000000</td>\n",
       "      <td>271.740000</td>\n",
       "      <td>66.800000</td>\n",
       "      <td>1.000000</td>\n",
       "    </tr>\n",
       "  </tbody>\n",
       "</table>\n",
       "</div>"
      ],
      "text/plain": [
       "              age  hypertension  heart_disease  avg_glucose_level         bmi  \\\n",
       "count  709.000000    709.000000     709.000000         709.000000  709.000000   \n",
       "mean    47.928406      0.132581       0.090268         113.162454   29.102680   \n",
       "std     23.678472      0.339361       0.286768          52.493273    7.808042   \n",
       "min      0.240000      0.000000       0.000000          55.120000   12.300000   \n",
       "25%     30.000000      0.000000       0.000000          77.520000   23.900000   \n",
       "50%     51.000000      0.000000       0.000000          93.020000   28.100000   \n",
       "75%     69.000000      0.000000       0.000000         125.200000   32.900000   \n",
       "max     82.000000      1.000000       1.000000         271.740000   66.800000   \n",
       "\n",
       "           stroke  \n",
       "count  709.000000  \n",
       "mean     0.294781  \n",
       "std      0.456266  \n",
       "min      0.000000  \n",
       "25%      0.000000  \n",
       "50%      0.000000  \n",
       "75%      1.000000  \n",
       "max      1.000000  "
      ]
     },
     "execution_count": 10,
     "metadata": {},
     "output_type": "execute_result"
    }
   ],
   "source": [
    "df_balanced.describe()"
   ]
  },
  {
   "cell_type": "code",
   "execution_count": 11,
   "metadata": {},
   "outputs": [
    {
     "data": {
      "text/html": [
       "<div>\n",
       "<style scoped>\n",
       "    .dataframe tbody tr th:only-of-type {\n",
       "        vertical-align: middle;\n",
       "    }\n",
       "\n",
       "    .dataframe tbody tr th {\n",
       "        vertical-align: top;\n",
       "    }\n",
       "\n",
       "    .dataframe thead th {\n",
       "        text-align: right;\n",
       "    }\n",
       "</style>\n",
       "<table border=\"1\" class=\"dataframe\">\n",
       "  <thead>\n",
       "    <tr style=\"text-align: right;\">\n",
       "      <th></th>\n",
       "      <th>age</th>\n",
       "      <th>hypertension</th>\n",
       "      <th>heart_disease</th>\n",
       "      <th>avg_glucose_level</th>\n",
       "      <th>bmi</th>\n",
       "      <th>stroke</th>\n",
       "    </tr>\n",
       "  </thead>\n",
       "  <tbody>\n",
       "    <tr>\n",
       "      <th>age</th>\n",
       "      <td>1.000000</td>\n",
       "      <td>0.303512</td>\n",
       "      <td>0.294454</td>\n",
       "      <td>0.316009</td>\n",
       "      <td>0.321822</td>\n",
       "      <td>0.540588</td>\n",
       "    </tr>\n",
       "    <tr>\n",
       "      <th>hypertension</th>\n",
       "      <td>0.303512</td>\n",
       "      <td>1.000000</td>\n",
       "      <td>0.123580</td>\n",
       "      <td>0.257510</td>\n",
       "      <td>0.131474</td>\n",
       "      <td>0.294552</td>\n",
       "    </tr>\n",
       "    <tr>\n",
       "      <th>heart_disease</th>\n",
       "      <td>0.294454</td>\n",
       "      <td>0.123580</td>\n",
       "      <td>1.000000</td>\n",
       "      <td>0.223900</td>\n",
       "      <td>0.072813</td>\n",
       "      <td>0.228139</td>\n",
       "    </tr>\n",
       "    <tr>\n",
       "      <th>avg_glucose_level</th>\n",
       "      <td>0.316009</td>\n",
       "      <td>0.257510</td>\n",
       "      <td>0.223900</td>\n",
       "      <td>1.000000</td>\n",
       "      <td>0.288076</td>\n",
       "      <td>0.263868</td>\n",
       "    </tr>\n",
       "    <tr>\n",
       "      <th>bmi</th>\n",
       "      <td>0.321822</td>\n",
       "      <td>0.131474</td>\n",
       "      <td>0.072813</td>\n",
       "      <td>0.288076</td>\n",
       "      <td>1.000000</td>\n",
       "      <td>0.113405</td>\n",
       "    </tr>\n",
       "    <tr>\n",
       "      <th>stroke</th>\n",
       "      <td>0.540588</td>\n",
       "      <td>0.294552</td>\n",
       "      <td>0.228139</td>\n",
       "      <td>0.263868</td>\n",
       "      <td>0.113405</td>\n",
       "      <td>1.000000</td>\n",
       "    </tr>\n",
       "  </tbody>\n",
       "</table>\n",
       "</div>"
      ],
      "text/plain": [
       "                        age  hypertension  heart_disease  avg_glucose_level  \\\n",
       "age                1.000000      0.303512       0.294454           0.316009   \n",
       "hypertension       0.303512      1.000000       0.123580           0.257510   \n",
       "heart_disease      0.294454      0.123580       1.000000           0.223900   \n",
       "avg_glucose_level  0.316009      0.257510       0.223900           1.000000   \n",
       "bmi                0.321822      0.131474       0.072813           0.288076   \n",
       "stroke             0.540588      0.294552       0.228139           0.263868   \n",
       "\n",
       "                        bmi    stroke  \n",
       "age                0.321822  0.540588  \n",
       "hypertension       0.131474  0.294552  \n",
       "heart_disease      0.072813  0.228139  \n",
       "avg_glucose_level  0.288076  0.263868  \n",
       "bmi                1.000000  0.113405  \n",
       "stroke             0.113405  1.000000  "
      ]
     },
     "execution_count": 11,
     "metadata": {},
     "output_type": "execute_result"
    }
   ],
   "source": [
    "df_balanced.corr(numeric_only=True)"
   ]
  },
  {
   "cell_type": "code",
   "execution_count": 12,
   "metadata": {},
   "outputs": [],
   "source": [
    "df_balanced.to_csv(\n",
    "    \"datasets/balanced.csv\"\n",
    ")  # Other files will now use only this version of the dataset."
   ]
  },
  {
   "cell_type": "markdown",
   "metadata": {},
   "source": [
    "## Binarizing the data"
   ]
  },
  {
   "cell_type": "markdown",
   "metadata": {},
   "source": [
    "### Helping methods"
   ]
  },
  {
   "cell_type": "code",
   "execution_count": 13,
   "metadata": {},
   "outputs": [],
   "source": [
    "def ordinal(df, features, boundaries, style=\">=\"):\n",
    "    new_df = df.copy()\n",
    "    new_df.drop(columns=features, inplace=True)\n",
    "    for i in range(len(features)):\n",
    "        feature = features[i]\n",
    "        curr_bound = boundaries[i]\n",
    "        for boundary in curr_bound:\n",
    "            if style == \">=\":\n",
    "                # XGBoost requires features_names without symbols from ' [],<'\n",
    "                new_df[f\"{feature}_ge_{boundary}\"] = df[feature] >= boundary\n",
    "                # greater or equal\n",
    "            elif style == \"<=\":\n",
    "                new_df[f\"{feature}_le_{boundary}\"] = df[feature] <= boundary\n",
    "                # less or equal\n",
    "            else:  # inter-ordinal\n",
    "                new_df[f\"{feature}_ge_{boundary}\"] = df[feature] >= boundary\n",
    "                new_df[f\"{feature}_le_{boundary}\"] = df[feature] <= boundary\n",
    "\n",
    "    return new_df"
   ]
  },
  {
   "cell_type": "code",
   "execution_count": 14,
   "metadata": {},
   "outputs": [],
   "source": [
    "def nominal(df, features):\n",
    "    new_df = df.copy()\n",
    "    for feature in features:\n",
    "        dummies = pd.get_dummies(df[feature], prefix=\"\", prefix_sep=\"\")\n",
    "        new_df = pd.concat([new_df, dummies], axis=1)\n",
    "    new_df.drop(columns=features, inplace=True)\n",
    "    return new_df"
   ]
  },
  {
   "cell_type": "code",
   "execution_count": 15,
   "metadata": {},
   "outputs": [],
   "source": [
    "def dichotomic(df, features):\n",
    "    new_df = df.copy()\n",
    "    for feature in features:\n",
    "        dummies = pd.get_dummies(df[feature], prefix=f\"{feature}\")\n",
    "        new_df = pd.concat([new_df, dummies], axis=1)\n",
    "    new_df.drop(columns=features, inplace=True)\n",
    "    return new_df"
   ]
  },
  {
   "cell_type": "markdown",
   "metadata": {},
   "source": [
    "### First strategy: seemingly logical"
   ]
  },
  {
   "cell_type": "markdown",
   "metadata": {},
   "source": [
    "Let's think about what kind of relationship is assumed based on logical reasoning:\n",
    "\n",
    "- The older a person is, the more likely they are to have a stroke\n",
    "- The higher the blood glucose level, the higher the probability of diabetes mellitus, the greater the probability of stroke\n",
    "- The information differs from one source to another, but it is more common to find information that each increase in bmi by 5 points increases the risk of stroke by 21%\n",
    "\n",
    "Due to the fact that all signs have a direct relationship with the target variable, it seems logical and sufficient to use ordinal >="
   ]
  },
  {
   "cell_type": "code",
   "execution_count": 16,
   "metadata": {},
   "outputs": [],
   "source": [
    "df_bin_strategy1 = ordinal(\n",
    "    df_balanced,\n",
    "    [\"age\", \"avg_glucose_level\", \"bmi\"],\n",
    "    [\n",
    "        [25, 35, 45, 55, 60, 65, 70, 75, 80, 85],\n",
    "        [70, 90, 95, 100, 110, 115, 120, 125, 130, 135],\n",
    "        [18, 20, 25, 30, 35, 40],\n",
    "    ],\n",
    "    style=\">=\",\n",
    ")\n",
    "\n",
    "df_bin_strategy1 = nominal(\n",
    "    df_bin_strategy1, [\"gender\", \"work_type\", \"Residence_type\", \"smoking_status\"]\n",
    ")\n",
    "df_bin_strategy1 = dichotomic(\n",
    "    df_bin_strategy1, [\"hypertension\", \"heart_disease\", \"ever_married\"]\n",
    ")"
   ]
  },
  {
   "cell_type": "code",
   "execution_count": 17,
   "metadata": {},
   "outputs": [],
   "source": [
    "corr = df_bin_strategy1.corr()"
   ]
  },
  {
   "cell_type": "code",
   "execution_count": 18,
   "metadata": {},
   "outputs": [
    {
     "data": {
      "text/plain": [
       "age_ge_55    0.509404\n",
       "age_ge_45    0.510136\n",
       "stroke       1.000000\n",
       "Name: stroke, dtype: float64"
      ]
     },
     "execution_count": 18,
     "metadata": {},
     "output_type": "execute_result"
    }
   ],
   "source": [
    "corr[\"stroke\"][np.abs(corr[\"stroke\"]) >= 0.5].sort_values()"
   ]
  },
  {
   "cell_type": "markdown",
   "metadata": {},
   "source": [
    "the most important features: age>=45, age>=55"
   ]
  },
  {
   "cell_type": "code",
   "execution_count": 19,
   "metadata": {},
   "outputs": [
    {
     "data": {
      "text/plain": [
       "age_ge_25    0.325901\n",
       "age_ge_75    0.389185\n",
       "age_ge_35    0.414506\n",
       "age_ge_70    0.436932\n",
       "age_ge_60    0.468620\n",
       "age_ge_65    0.479041\n",
       "Name: stroke, dtype: float64"
      ]
     },
     "execution_count": 19,
     "metadata": {},
     "output_type": "execute_result"
    }
   ],
   "source": [
    "corr[\"stroke\"][\n",
    "    (0.3 <= np.abs(corr[\"stroke\"])) & (np.abs(corr[\"stroke\"]) < 0.5)\n",
    "].sort_values()"
   ]
  },
  {
   "cell_type": "markdown",
   "metadata": {},
   "source": [
    "Can be considered as important, again about age"
   ]
  },
  {
   "cell_type": "code",
   "execution_count": 20,
   "metadata": {},
   "outputs": [
    {
     "data": {
      "text/plain": [
       "hypertension_0             -0.294552\n",
       "ever_married_No            -0.273364\n",
       "heart_disease_0            -0.228139\n",
       "children                   -0.215728\n",
       "avg_glucose_level_ge_110    0.210654\n",
       "avg_glucose_level_ge_115    0.226720\n",
       "avg_glucose_level_ge_120    0.227988\n",
       "heart_disease_1             0.228139\n",
       "avg_glucose_level_ge_125    0.246328\n",
       "avg_glucose_level_ge_135    0.247657\n",
       "avg_glucose_level_ge_130    0.250138\n",
       "ever_married_Yes            0.273364\n",
       "age_ge_80                   0.286938\n",
       "hypertension_1              0.294552\n",
       "Name: stroke, dtype: float64"
      ]
     },
     "execution_count": 20,
     "metadata": {},
     "output_type": "execute_result"
    }
   ],
   "source": [
    "corr[\"stroke\"][\n",
    "    (0.2 <= np.abs(corr[\"stroke\"])) & (np.abs(corr[\"stroke\"]) < 0.3)\n",
    "].sort_values()"
   ]
  },
  {
   "cell_type": "markdown",
   "metadata": {},
   "source": [
    "Except age: ever_married, hypertension "
   ]
  },
  {
   "cell_type": "code",
   "execution_count": 21,
   "metadata": {},
   "outputs": [],
   "source": [
    "df_bin_strategy1.to_csv(\"datasets/strategy1.csv\")"
   ]
  },
  {
   "cell_type": "markdown",
   "metadata": {},
   "source": [
    "### Second strategy: inter-ordinal for each numeric"
   ]
  },
  {
   "cell_type": "code",
   "execution_count": 22,
   "metadata": {},
   "outputs": [],
   "source": [
    "df_bin_strategy2 = ordinal(\n",
    "    df_balanced,\n",
    "    [\"age\", \"avg_glucose_level\", \"bmi\"],\n",
    "    [\n",
    "        [25, 35, 45, 55, 60, 65, 70, 75, 80, 85],\n",
    "        [70, 90, 95, 100, 110, 115, 120, 125, 130, 135],\n",
    "        [18, 20, 25, 30, 35, 40],\n",
    "    ],\n",
    "    style=\">=<=\",\n",
    ")\n",
    "\n",
    "df_bin_strategy2 = nominal(\n",
    "    df_bin_strategy2, [\"gender\", \"work_type\", \"Residence_type\", \"smoking_status\"]\n",
    ")\n",
    "df_bin_strategy2 = dichotomic(\n",
    "    df_bin_strategy2, [\"hypertension\", \"heart_disease\", \"ever_married\"]\n",
    ")"
   ]
  },
  {
   "cell_type": "markdown",
   "metadata": {},
   "source": [
    "Correlations will not change from another strategy, so let's go straight"
   ]
  },
  {
   "cell_type": "code",
   "execution_count": 23,
   "metadata": {},
   "outputs": [],
   "source": [
    "df_bin_strategy2.to_csv(\"datasets/strategy2.csv\")"
   ]
  },
  {
   "cell_type": "markdown",
   "metadata": {},
   "source": [
    "### Third strategy: larger intervals for numeric features"
   ]
  },
  {
   "cell_type": "markdown",
   "metadata": {},
   "source": [
    "I understand that we may lose valuable information, but this is not prohibited as part of a training experiment)"
   ]
  },
  {
   "cell_type": "code",
   "execution_count": 24,
   "metadata": {},
   "outputs": [],
   "source": [
    "df_bin_strategy3 = ordinal(\n",
    "    df_balanced,\n",
    "    [\"age\", \"avg_glucose_level\", \"bmi\"],\n",
    "    [\n",
    "        [25, 45, 55, 60, 65, 70, 75],\n",
    "        [70, 90, 95, 120, 125, 130],\n",
    "        [25, 30, 35, 40],\n",
    "    ],\n",
    "    style=\">=<=\",\n",
    ")\n",
    "\n",
    "df_bin_strategy3 = nominal(\n",
    "    df_bin_strategy3, [\"gender\", \"work_type\", \"Residence_type\", \"smoking_status\"]\n",
    ")\n",
    "df_bin_strategy3 = dichotomic(\n",
    "    df_bin_strategy3, [\"hypertension\", \"heart_disease\", \"ever_married\"]\n",
    ")"
   ]
  },
  {
   "cell_type": "code",
   "execution_count": 25,
   "metadata": {},
   "outputs": [],
   "source": [
    "df_bin_strategy3.to_csv(\"datasets/strategy3.csv\")"
   ]
  },
  {
   "cell_type": "markdown",
   "metadata": {},
   "source": [
    "### Fourth strategy: selecting features"
   ]
  },
  {
   "cell_type": "code",
   "execution_count": 26,
   "metadata": {},
   "outputs": [],
   "source": [
    "y = df_bin_strategy2[\"stroke\"]\n",
    "X = df_bin_strategy2.drop(columns=[\"stroke\"])\n",
    "X_train, X_test, y_train, y_test = train_test_split(\n",
    "    X, y, test_size=0.2, random_state=SEED\n",
    ")"
   ]
  },
  {
   "cell_type": "code",
   "execution_count": 27,
   "metadata": {},
   "outputs": [],
   "source": [
    "chi2_features = SelectKBest(chi2, k=15)  # best 15 features\n",
    "best_features = chi2_features.fit_transform(X_train, y_train)"
   ]
  },
  {
   "cell_type": "code",
   "execution_count": 28,
   "metadata": {},
   "outputs": [
    {
     "name": "stdout",
     "output_type": "stream",
     "text": [
      "feature with column_index 1 = age_le_25\n",
      "feature with column_index 3 = age_le_35\n",
      "feature with column_index 4 = age_ge_45\n",
      "feature with column_index 5 = age_le_45\n",
      "feature with column_index 6 = age_ge_55\n",
      "feature with column_index 7 = age_le_55\n",
      "feature with column_index 8 = age_ge_60\n",
      "feature with column_index 9 = age_le_60\n",
      "feature with column_index 10 = age_ge_65\n",
      "feature with column_index 11 = age_le_65\n",
      "feature with column_index 12 = age_ge_70\n",
      "feature with column_index 14 = age_ge_75\n",
      "feature with column_index 16 = age_ge_80\n",
      "feature with column_index 38 = avg_glucose_level_ge_135\n",
      "feature with column_index 66 = hypertension_1\n"
     ]
    }
   ],
   "source": [
    "feature_indices = chi2_features.get_support(indices=True)\n",
    "column_names = X_train.columns[feature_indices]\n",
    "for i in range(len(column_names)):\n",
    "    print(f\"feature with column_index {feature_indices[i]} = {column_names[i]}\")"
   ]
  },
  {
   "cell_type": "code",
   "execution_count": 29,
   "metadata": {},
   "outputs": [],
   "source": [
    "lst = list(column_names)\n",
    "lst.append(\"stroke\")"
   ]
  },
  {
   "cell_type": "code",
   "execution_count": 30,
   "metadata": {},
   "outputs": [],
   "source": [
    "df_bin_strategy4 = df_bin_strategy2[lst]"
   ]
  },
  {
   "cell_type": "code",
   "execution_count": 31,
   "metadata": {},
   "outputs": [],
   "source": [
    "df_bin_strategy4.to_csv(\"datasets/strategy4.csv\")"
   ]
  },
  {
   "cell_type": "markdown",
   "metadata": {},
   "source": [
    "## Preparing index for ConceptLattice"
   ]
  },
  {
   "cell_type": "markdown",
   "metadata": {},
   "source": [
    "It is more logical to run this and the next block every time before the model"
   ]
  },
  {
   "cell_type": "code",
   "execution_count": 32,
   "metadata": {},
   "outputs": [],
   "source": [
    "def prepare_index(df):\n",
    "    return df.set_index(np.arange(len(df)).astype(str))"
   ]
  },
  {
   "cell_type": "code",
   "execution_count": 33,
   "metadata": {},
   "outputs": [],
   "source": [
    "df_bin_strategy1 = prepare_index(df_bin_strategy1)\n",
    "df_bin_strategy2 = prepare_index(df_bin_strategy2)\n",
    "df_bin_strategy3 = prepare_index(df_bin_strategy3)\n",
    "df_bin_strategy4 = prepare_index(df_bin_strategy4)"
   ]
  },
  {
   "cell_type": "code",
   "execution_count": 34,
   "metadata": {},
   "outputs": [
    {
     "data": {
      "text/html": [
       "<div>\n",
       "<style scoped>\n",
       "    .dataframe tbody tr th:only-of-type {\n",
       "        vertical-align: middle;\n",
       "    }\n",
       "\n",
       "    .dataframe tbody tr th {\n",
       "        vertical-align: top;\n",
       "    }\n",
       "\n",
       "    .dataframe thead th {\n",
       "        text-align: right;\n",
       "    }\n",
       "</style>\n",
       "<table border=\"1\" class=\"dataframe\">\n",
       "  <thead>\n",
       "    <tr style=\"text-align: right;\">\n",
       "      <th></th>\n",
       "      <th>stroke</th>\n",
       "      <th>age_ge_25</th>\n",
       "      <th>age_ge_35</th>\n",
       "      <th>age_ge_45</th>\n",
       "      <th>age_ge_55</th>\n",
       "      <th>age_ge_60</th>\n",
       "      <th>age_ge_65</th>\n",
       "      <th>age_ge_70</th>\n",
       "      <th>age_ge_75</th>\n",
       "      <th>age_ge_80</th>\n",
       "      <th>...</th>\n",
       "      <th>Unknown</th>\n",
       "      <th>formerly smoked</th>\n",
       "      <th>never smoked</th>\n",
       "      <th>smokes</th>\n",
       "      <th>hypertension_0</th>\n",
       "      <th>hypertension_1</th>\n",
       "      <th>heart_disease_0</th>\n",
       "      <th>heart_disease_1</th>\n",
       "      <th>ever_married_No</th>\n",
       "      <th>ever_married_Yes</th>\n",
       "    </tr>\n",
       "  </thead>\n",
       "  <tbody>\n",
       "    <tr>\n",
       "      <th>0</th>\n",
       "      <td>1</td>\n",
       "      <td>True</td>\n",
       "      <td>True</td>\n",
       "      <td>True</td>\n",
       "      <td>True</td>\n",
       "      <td>True</td>\n",
       "      <td>True</td>\n",
       "      <td>False</td>\n",
       "      <td>False</td>\n",
       "      <td>False</td>\n",
       "      <td>...</td>\n",
       "      <td>False</td>\n",
       "      <td>True</td>\n",
       "      <td>False</td>\n",
       "      <td>False</td>\n",
       "      <td>True</td>\n",
       "      <td>False</td>\n",
       "      <td>False</td>\n",
       "      <td>True</td>\n",
       "      <td>False</td>\n",
       "      <td>True</td>\n",
       "    </tr>\n",
       "    <tr>\n",
       "      <th>1</th>\n",
       "      <td>1</td>\n",
       "      <td>True</td>\n",
       "      <td>True</td>\n",
       "      <td>True</td>\n",
       "      <td>True</td>\n",
       "      <td>True</td>\n",
       "      <td>True</td>\n",
       "      <td>True</td>\n",
       "      <td>True</td>\n",
       "      <td>True</td>\n",
       "      <td>...</td>\n",
       "      <td>False</td>\n",
       "      <td>False</td>\n",
       "      <td>True</td>\n",
       "      <td>False</td>\n",
       "      <td>True</td>\n",
       "      <td>False</td>\n",
       "      <td>False</td>\n",
       "      <td>True</td>\n",
       "      <td>False</td>\n",
       "      <td>True</td>\n",
       "    </tr>\n",
       "    <tr>\n",
       "      <th>2</th>\n",
       "      <td>1</td>\n",
       "      <td>True</td>\n",
       "      <td>True</td>\n",
       "      <td>True</td>\n",
       "      <td>False</td>\n",
       "      <td>False</td>\n",
       "      <td>False</td>\n",
       "      <td>False</td>\n",
       "      <td>False</td>\n",
       "      <td>False</td>\n",
       "      <td>...</td>\n",
       "      <td>False</td>\n",
       "      <td>False</td>\n",
       "      <td>False</td>\n",
       "      <td>True</td>\n",
       "      <td>True</td>\n",
       "      <td>False</td>\n",
       "      <td>True</td>\n",
       "      <td>False</td>\n",
       "      <td>False</td>\n",
       "      <td>True</td>\n",
       "    </tr>\n",
       "    <tr>\n",
       "      <th>3</th>\n",
       "      <td>1</td>\n",
       "      <td>True</td>\n",
       "      <td>True</td>\n",
       "      <td>True</td>\n",
       "      <td>True</td>\n",
       "      <td>True</td>\n",
       "      <td>True</td>\n",
       "      <td>True</td>\n",
       "      <td>True</td>\n",
       "      <td>False</td>\n",
       "      <td>...</td>\n",
       "      <td>False</td>\n",
       "      <td>False</td>\n",
       "      <td>True</td>\n",
       "      <td>False</td>\n",
       "      <td>False</td>\n",
       "      <td>True</td>\n",
       "      <td>True</td>\n",
       "      <td>False</td>\n",
       "      <td>False</td>\n",
       "      <td>True</td>\n",
       "    </tr>\n",
       "    <tr>\n",
       "      <th>4</th>\n",
       "      <td>1</td>\n",
       "      <td>True</td>\n",
       "      <td>True</td>\n",
       "      <td>True</td>\n",
       "      <td>True</td>\n",
       "      <td>True</td>\n",
       "      <td>True</td>\n",
       "      <td>True</td>\n",
       "      <td>True</td>\n",
       "      <td>True</td>\n",
       "      <td>...</td>\n",
       "      <td>False</td>\n",
       "      <td>True</td>\n",
       "      <td>False</td>\n",
       "      <td>False</td>\n",
       "      <td>True</td>\n",
       "      <td>False</td>\n",
       "      <td>True</td>\n",
       "      <td>False</td>\n",
       "      <td>False</td>\n",
       "      <td>True</td>\n",
       "    </tr>\n",
       "    <tr>\n",
       "      <th>...</th>\n",
       "      <td>...</td>\n",
       "      <td>...</td>\n",
       "      <td>...</td>\n",
       "      <td>...</td>\n",
       "      <td>...</td>\n",
       "      <td>...</td>\n",
       "      <td>...</td>\n",
       "      <td>...</td>\n",
       "      <td>...</td>\n",
       "      <td>...</td>\n",
       "      <td>...</td>\n",
       "      <td>...</td>\n",
       "      <td>...</td>\n",
       "      <td>...</td>\n",
       "      <td>...</td>\n",
       "      <td>...</td>\n",
       "      <td>...</td>\n",
       "      <td>...</td>\n",
       "      <td>...</td>\n",
       "      <td>...</td>\n",
       "      <td>...</td>\n",
       "    </tr>\n",
       "    <tr>\n",
       "      <th>704</th>\n",
       "      <td>0</td>\n",
       "      <td>True</td>\n",
       "      <td>True</td>\n",
       "      <td>True</td>\n",
       "      <td>True</td>\n",
       "      <td>True</td>\n",
       "      <td>True</td>\n",
       "      <td>True</td>\n",
       "      <td>True</td>\n",
       "      <td>False</td>\n",
       "      <td>...</td>\n",
       "      <td>False</td>\n",
       "      <td>True</td>\n",
       "      <td>False</td>\n",
       "      <td>False</td>\n",
       "      <td>False</td>\n",
       "      <td>True</td>\n",
       "      <td>False</td>\n",
       "      <td>True</td>\n",
       "      <td>False</td>\n",
       "      <td>True</td>\n",
       "    </tr>\n",
       "    <tr>\n",
       "      <th>705</th>\n",
       "      <td>0</td>\n",
       "      <td>True</td>\n",
       "      <td>True</td>\n",
       "      <td>True</td>\n",
       "      <td>True</td>\n",
       "      <td>True</td>\n",
       "      <td>True</td>\n",
       "      <td>True</td>\n",
       "      <td>True</td>\n",
       "      <td>False</td>\n",
       "      <td>...</td>\n",
       "      <td>False</td>\n",
       "      <td>False</td>\n",
       "      <td>True</td>\n",
       "      <td>False</td>\n",
       "      <td>True</td>\n",
       "      <td>False</td>\n",
       "      <td>False</td>\n",
       "      <td>True</td>\n",
       "      <td>False</td>\n",
       "      <td>True</td>\n",
       "    </tr>\n",
       "    <tr>\n",
       "      <th>706</th>\n",
       "      <td>0</td>\n",
       "      <td>False</td>\n",
       "      <td>False</td>\n",
       "      <td>False</td>\n",
       "      <td>False</td>\n",
       "      <td>False</td>\n",
       "      <td>False</td>\n",
       "      <td>False</td>\n",
       "      <td>False</td>\n",
       "      <td>False</td>\n",
       "      <td>...</td>\n",
       "      <td>True</td>\n",
       "      <td>False</td>\n",
       "      <td>False</td>\n",
       "      <td>False</td>\n",
       "      <td>True</td>\n",
       "      <td>False</td>\n",
       "      <td>True</td>\n",
       "      <td>False</td>\n",
       "      <td>True</td>\n",
       "      <td>False</td>\n",
       "    </tr>\n",
       "    <tr>\n",
       "      <th>707</th>\n",
       "      <td>0</td>\n",
       "      <td>True</td>\n",
       "      <td>True</td>\n",
       "      <td>True</td>\n",
       "      <td>True</td>\n",
       "      <td>True</td>\n",
       "      <td>True</td>\n",
       "      <td>True</td>\n",
       "      <td>False</td>\n",
       "      <td>False</td>\n",
       "      <td>...</td>\n",
       "      <td>False</td>\n",
       "      <td>True</td>\n",
       "      <td>False</td>\n",
       "      <td>False</td>\n",
       "      <td>True</td>\n",
       "      <td>False</td>\n",
       "      <td>True</td>\n",
       "      <td>False</td>\n",
       "      <td>False</td>\n",
       "      <td>True</td>\n",
       "    </tr>\n",
       "    <tr>\n",
       "      <th>708</th>\n",
       "      <td>0</td>\n",
       "      <td>True</td>\n",
       "      <td>True</td>\n",
       "      <td>True</td>\n",
       "      <td>True</td>\n",
       "      <td>False</td>\n",
       "      <td>False</td>\n",
       "      <td>False</td>\n",
       "      <td>False</td>\n",
       "      <td>False</td>\n",
       "      <td>...</td>\n",
       "      <td>False</td>\n",
       "      <td>True</td>\n",
       "      <td>False</td>\n",
       "      <td>False</td>\n",
       "      <td>True</td>\n",
       "      <td>False</td>\n",
       "      <td>True</td>\n",
       "      <td>False</td>\n",
       "      <td>True</td>\n",
       "      <td>False</td>\n",
       "    </tr>\n",
       "  </tbody>\n",
       "</table>\n",
       "<p>709 rows × 46 columns</p>\n",
       "</div>"
      ],
      "text/plain": [
       "     stroke  age_ge_25  age_ge_35  age_ge_45  age_ge_55  age_ge_60  age_ge_65  \\\n",
       "0         1       True       True       True       True       True       True   \n",
       "1         1       True       True       True       True       True       True   \n",
       "2         1       True       True       True      False      False      False   \n",
       "3         1       True       True       True       True       True       True   \n",
       "4         1       True       True       True       True       True       True   \n",
       "..      ...        ...        ...        ...        ...        ...        ...   \n",
       "704       0       True       True       True       True       True       True   \n",
       "705       0       True       True       True       True       True       True   \n",
       "706       0      False      False      False      False      False      False   \n",
       "707       0       True       True       True       True       True       True   \n",
       "708       0       True       True       True       True      False      False   \n",
       "\n",
       "     age_ge_70  age_ge_75  age_ge_80  ...  Unknown  formerly smoked  \\\n",
       "0        False      False      False  ...    False             True   \n",
       "1         True       True       True  ...    False            False   \n",
       "2        False      False      False  ...    False            False   \n",
       "3         True       True      False  ...    False            False   \n",
       "4         True       True       True  ...    False             True   \n",
       "..         ...        ...        ...  ...      ...              ...   \n",
       "704       True       True      False  ...    False             True   \n",
       "705       True       True      False  ...    False            False   \n",
       "706      False      False      False  ...     True            False   \n",
       "707       True      False      False  ...    False             True   \n",
       "708      False      False      False  ...    False             True   \n",
       "\n",
       "     never smoked  smokes  hypertension_0  hypertension_1  heart_disease_0  \\\n",
       "0           False   False            True           False            False   \n",
       "1            True   False            True           False            False   \n",
       "2           False    True            True           False             True   \n",
       "3            True   False           False            True             True   \n",
       "4           False   False            True           False             True   \n",
       "..            ...     ...             ...             ...              ...   \n",
       "704         False   False           False            True            False   \n",
       "705          True   False            True           False            False   \n",
       "706         False   False            True           False             True   \n",
       "707         False   False            True           False             True   \n",
       "708         False   False            True           False             True   \n",
       "\n",
       "     heart_disease_1  ever_married_No  ever_married_Yes  \n",
       "0               True            False              True  \n",
       "1               True            False              True  \n",
       "2              False            False              True  \n",
       "3              False            False              True  \n",
       "4              False            False              True  \n",
       "..               ...              ...               ...  \n",
       "704             True            False              True  \n",
       "705             True            False              True  \n",
       "706            False             True             False  \n",
       "707            False            False              True  \n",
       "708            False             True             False  \n",
       "\n",
       "[709 rows x 46 columns]"
      ]
     },
     "execution_count": 34,
     "metadata": {},
     "output_type": "execute_result"
    }
   ],
   "source": [
    "df_bin_strategy1"
   ]
  },
  {
   "cell_type": "markdown",
   "metadata": {
    "id": "OgvmQkGnu8J6"
   },
   "source": [
    "## Spliting the data to train and test"
   ]
  },
  {
   "cell_type": "code",
   "execution_count": 35,
   "metadata": {
    "id": "kkxmcv3iu8J6"
   },
   "outputs": [],
   "source": [
    "y = df_bin_strategy1[\"stroke\"]\n",
    "X = df_bin_strategy1.drop(columns=[\"stroke\"])"
   ]
  },
  {
   "cell_type": "code",
   "execution_count": 36,
   "metadata": {
    "id": "zWq_LuVQu8J6"
   },
   "outputs": [],
   "source": [
    "X_train, X_test, y_train, y_test = train_test_split(\n",
    "    X, y, test_size=0.2, random_state=SEED\n",
    ")"
   ]
  },
  {
   "cell_type": "code",
   "execution_count": null,
   "metadata": {},
   "outputs": [],
   "source": []
  }
 ],
 "metadata": {
  "colab": {
   "provenance": []
  },
  "kernelspec": {
   "display_name": "Python 3 (ipykernel)",
   "language": "python",
   "name": "python3"
  },
  "language_info": {
   "codemirror_mode": {
    "name": "ipython",
    "version": 3
   },
   "file_extension": ".py",
   "mimetype": "text/x-python",
   "name": "python",
   "nbconvert_exporter": "python",
   "pygments_lexer": "ipython3",
   "version": "3.12.2"
  }
 },
 "nbformat": 4,
 "nbformat_minor": 4
}
